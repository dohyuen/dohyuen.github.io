{
 "cells": [
  {
   "cell_type": "markdown",
   "id": "9dcc8a4d",
   "metadata": {},
   "source": [
    "1. a=\"Hello Python\" 문자열을 Slicing과 연결 연산자 (+)를 사용하여 \"Python Hello\"로 변경하시오.  \n",
    "  - [주의] a 변수 자체에 \"Python Hello\" 문자열이 저장되어야 함"
   ]
  },
  {
   "cell_type": "code",
   "execution_count": 45,
   "id": "91073ae8",
   "metadata": {},
   "outputs": [
    {
     "name": "stdout",
     "output_type": "stream",
     "text": [
      "Python Hello \n"
     ]
    }
   ],
   "source": [
    "a = \"Hello Python\"\n",
    "\n",
    "a = (a[6:13] + ' ' + a[0:6])\n",
    "\n",
    "print(a)"
   ]
  },
  {
   "cell_type": "markdown",
   "id": "afad4fde",
   "metadata": {},
   "source": [
    "2. b=\"Hello Python World\" 문자열을 Slicing과 연결 연산자 (+)를 사용하여 \"World Python Hello\"로 변경하시오.  \n",
    "  - [주의] b 변수 자체에 \"World Python Hello\" 문자열이 저장되어야 함"
   ]
  },
  {
   "cell_type": "code",
   "execution_count": 46,
   "id": "8dfae1ba",
   "metadata": {},
   "outputs": [
    {
     "name": "stdout",
     "output_type": "stream",
     "text": [
      "World Python Hello\n"
     ]
    }
   ],
   "source": [
    "b = \"Hello Python World\"\n",
    "\n",
    "b= (b[13:18] + b[5:12] + ' ' + b[0:5])\n",
    "\n",
    "print(b)"
   ]
  },
  {
   "cell_type": "markdown",
   "id": "a93ccb1c",
   "metadata": {},
   "source": [
    "3. c=\"Hello\"를 \"olleH\"로 변경하시오  \n",
    "  - [주의] c 변수 자체에 \"olleH\" 문자열이 저장되어야 함"
   ]
  },
  {
   "cell_type": "code",
   "execution_count": 47,
   "id": "2d0de12e",
   "metadata": {},
   "outputs": [
    {
     "name": "stdout",
     "output_type": "stream",
     "text": [
      "olleH\n"
     ]
    }
   ],
   "source": [
    "c = \"Hello\"\n",
    "\n",
    "c = c[::-1] # step이 -1씩\n",
    "\n",
    "print(c)"
   ]
  },
  {
   "cell_type": "markdown",
   "id": "da4cb154",
   "metadata": {},
   "source": [
    "4. s=\"python\"에 대해 다음 문제를 풀어보시오.  \n",
    "  A. s[0], s[0][0], s[0][0][0]은 각각 어떤 값이 나오는지 확인하고 그 이유를 나름대로 설명해 보시오.  \n",
    "  B. s[-100], s[100]은 값이 나오는지 에러가 나오는지 확인하고 그 결과에 대한 이유를 나름대로 설명해 보시오.  \n",
    "  C. s[-100, 100]은 값이 나오는지 에러가 나오는지 확인하고 그 결과에 대한 이유를 나름대로 설명해 보시오.  \n",
    "  D. s[1:-1]의 결과를 확인하고 그 결과에 대한 이유를 정확하게 설명하시오.  \n",
    "  E. s[3:-3]의 결과를 확인하고 그 결과에 대한 이유를 정확하게 설명하시오."
   ]
  },
  {
   "cell_type": "markdown",
   "id": "4febb508",
   "metadata": {},
   "source": [
    "(A)"
   ]
  },
  {
   "cell_type": "code",
   "execution_count": 50,
   "id": "fa34432a",
   "metadata": {},
   "outputs": [
    {
     "name": "stdout",
     "output_type": "stream",
     "text": [
      "p\n",
      "p\n",
      "p\n"
     ]
    }
   ],
   "source": [
    "s = \"python\"\n",
    "\n",
    "print(s[0])\n",
    "print(s[0][0])\n",
    "print(s[0][0][0])"
   ]
  },
  {
   "cell_type": "markdown",
   "id": "4134305b",
   "metadata": {},
   "source": [
    "list안의 list를 예로들면 list=[[1,2,3], [4,5,6], [7,8,9]]  \n",
    "s[0] : 0번째 인덱스(리스트)  \n",
    "s[0][0] : 0번째 인덱스(리스트)안의 0번째 인덱스  \n",
    "이런 식으로 설명할 수 있습니다. // s[0][0][0]도 마찬가지 \n",
    "  \n",
    "*여기서 신기한 점은 s[2][0]을 했을 때 [0]이 생략된다는 점?"
   ]
  },
  {
   "cell_type": "markdown",
   "id": "28d2a680",
   "metadata": {},
   "source": [
    "(B)"
   ]
  },
  {
   "cell_type": "code",
   "execution_count": 53,
   "id": "47c08fa7",
   "metadata": {},
   "outputs": [
    {
     "ename": "IndexError",
     "evalue": "string index out of range",
     "output_type": "error",
     "traceback": [
      "\u001b[1;31m---------------------------------------------------------------------------\u001b[0m",
      "\u001b[1;31mIndexError\u001b[0m                                Traceback (most recent call last)",
      "\u001b[1;32m<ipython-input-53-6d81aee69bed>\u001b[0m in \u001b[0;36m<module>\u001b[1;34m\u001b[0m\n\u001b[1;32m----> 1\u001b[1;33m \u001b[0mprint\u001b[0m\u001b[1;33m(\u001b[0m\u001b[0ms\u001b[0m\u001b[1;33m[\u001b[0m\u001b[1;33m-\u001b[0m\u001b[1;36m100\u001b[0m\u001b[1;33m]\u001b[0m\u001b[1;33m)\u001b[0m\u001b[1;33m\u001b[0m\u001b[1;33m\u001b[0m\u001b[0m\n\u001b[0m\u001b[0;32m      2\u001b[0m \u001b[0mprint\u001b[0m\u001b[1;33m(\u001b[0m\u001b[0ms\u001b[0m\u001b[1;33m[\u001b[0m\u001b[1;36m100\u001b[0m\u001b[1;33m]\u001b[0m\u001b[1;33m)\u001b[0m\u001b[1;33m\u001b[0m\u001b[1;33m\u001b[0m\u001b[0m\n",
      "\u001b[1;31mIndexError\u001b[0m: string index out of range"
     ]
    }
   ],
   "source": [
    "print(s[-100])\n",
    "print(s[100])"
   ]
  },
  {
   "cell_type": "markdown",
   "id": "501b5f79",
   "metadata": {},
   "source": [
    "단순히 s는 0에서6 or -1에서-6 인덱스만 값이 있고  \n",
    "100번째, -100번째 인덱스가 없기 때문에  \n",
    "범위 밖 즉, string index out of range 에러가 떴습니다."
   ]
  },
  {
   "cell_type": "markdown",
   "id": "54ece4ba",
   "metadata": {},
   "source": [
    "(C)"
   ]
  },
  {
   "cell_type": "code",
   "execution_count": 65,
   "id": "4a429887",
   "metadata": {},
   "outputs": [
    {
     "ename": "TypeError",
     "evalue": "string indices must be integers",
     "output_type": "error",
     "traceback": [
      "\u001b[1;31m---------------------------------------------------------------------------\u001b[0m",
      "\u001b[1;31mTypeError\u001b[0m                                 Traceback (most recent call last)",
      "\u001b[1;32m<ipython-input-65-bc06a34fad62>\u001b[0m in \u001b[0;36m<module>\u001b[1;34m\u001b[0m\n\u001b[1;32m----> 1\u001b[1;33m \u001b[0ms\u001b[0m\u001b[1;33m[\u001b[0m\u001b[1;33m-\u001b[0m\u001b[1;36m1\u001b[0m\u001b[1;33m,\u001b[0m \u001b[1;36m1\u001b[0m\u001b[1;33m]\u001b[0m\u001b[1;33m\u001b[0m\u001b[1;33m\u001b[0m\u001b[0m\n\u001b[0m",
      "\u001b[1;31mTypeError\u001b[0m: string indices must be integers"
     ]
    }
   ],
   "source": [
    "s[-100, 100]"
   ]
  },
  {
   "cell_type": "markdown",
   "id": "d9fea3c6",
   "metadata": {},
   "source": [
    "string indices must be integers : 인덱스에는 정수만 와야한다.  \n",
    "즉, '-100, 100' 을 정수가 아닌 문자 자체로 인식해서 오류가 난 것으로 생각됩니다."
   ]
  },
  {
   "cell_type": "markdown",
   "id": "decab085",
   "metadata": {},
   "source": [
    "(D)"
   ]
  },
  {
   "cell_type": "code",
   "execution_count": 72,
   "id": "fca8adf8",
   "metadata": {},
   "outputs": [
    {
     "data": {
      "text/plain": [
       "'ytho'"
      ]
     },
     "execution_count": 72,
     "metadata": {},
     "output_type": "execute_result"
    }
   ],
   "source": [
    "s[1:-1]"
   ]
  },
  {
   "cell_type": "markdown",
   "id": "c679a038",
   "metadata": {},
   "source": [
    " p  y  t  h  o  n -> 값  \n",
    " 0  1  2  3  4  5 -> 인덱스(+)  \n",
    "-6 -5 -4 -3 -2 -1 -> 인덱스(-)  \n",
    "-라고 해서 뒤로 간다고 생각할 수 있는데,  \n",
    "그저 음의 인덱스는 \"뒤에서 n번째 요소\"라는 뜻이고    \n",
    "즉, 앞에서 1번째 부터 뒤에서 2번째까지 불러온다는 뜻이기 때문입니다.  \n",
    "또, [1:-1]이라는 것은 step 1이 생략되있기 때문에 읽는 방향은 step:-1을 하지 않는 이상 달라지지 않습니다."
   ]
  },
  {
   "cell_type": "markdown",
   "id": "47694add",
   "metadata": {},
   "source": [
    "(E)"
   ]
  },
  {
   "cell_type": "code",
   "execution_count": 73,
   "id": "3f3654dc",
   "metadata": {},
   "outputs": [
    {
     "data": {
      "text/plain": [
       "''"
      ]
     },
     "execution_count": 73,
     "metadata": {},
     "output_type": "execute_result"
    }
   ],
   "source": [
    "s[3:-3]"
   ]
  },
  {
   "cell_type": "markdown",
   "id": "37555e04",
   "metadata": {},
   "source": [
    "결과를 보면 '' 즉, 아무것도 출력되지 않았습니다.  \n",
    "이유는 위에서도 말했듯이 앞에서 3번째 에서 뒤에서 3번째까지 출력해라  \n",
    "라는 뜻이고 3에서 3번째와 뒤에서 3번째는 같은 값을 가리키고 있기 때문에  \n",
    "아무것도 출력되지 않았습니다. // 미만 때문"
   ]
  },
  {
   "cell_type": "markdown",
   "id": "216836db",
   "metadata": {},
   "source": [
    "5. for문을 활용하여 1부터 100사이의 홀수를 출력하시오."
   ]
  },
  {
   "cell_type": "code",
   "execution_count": 1,
   "id": "f747d354",
   "metadata": {},
   "outputs": [
    {
     "name": "stdout",
     "output_type": "stream",
     "text": [
      "1\n",
      "3\n",
      "5\n",
      "7\n",
      "9\n",
      "11\n",
      "13\n",
      "15\n",
      "17\n",
      "19\n",
      "21\n",
      "23\n",
      "25\n",
      "27\n",
      "29\n",
      "31\n",
      "33\n",
      "35\n",
      "37\n",
      "39\n",
      "41\n",
      "43\n",
      "45\n",
      "47\n",
      "49\n",
      "51\n",
      "53\n",
      "55\n",
      "57\n",
      "59\n",
      "61\n",
      "63\n",
      "65\n",
      "67\n",
      "69\n",
      "71\n",
      "73\n",
      "75\n",
      "77\n",
      "79\n",
      "81\n",
      "83\n",
      "85\n",
      "87\n",
      "89\n",
      "91\n",
      "93\n",
      "95\n",
      "97\n",
      "99\n"
     ]
    }
   ],
   "source": [
    "for odd in range(1,101):\n",
    "    if odd % 2 == 1:        # 2로 나눈 나머지가 1일 때만\n",
    "        print(odd)          # 출력된다."
   ]
  },
  {
   "cell_type": "markdown",
   "id": "dea391eb",
   "metadata": {},
   "source": [
    "6. while문을 활용하여 1부터 100사이의 짝수의 합을 계산하여 출력하시오."
   ]
  },
  {
   "cell_type": "code",
   "execution_count": 2,
   "id": "67dce0a1",
   "metadata": {},
   "outputs": [
    {
     "name": "stdout",
     "output_type": "stream",
     "text": [
      "2550\n"
     ]
    }
   ],
   "source": [
    "even_sum, even = 0, 0\n",
    "\n",
    "while even<100:\n",
    "    even += 1\n",
    "    if even % 2 == 0:     # 2로 나눈 나머지가 0일 때만\n",
    "        even_sum += even  # even_sum에 더해진다.\n",
    "\n",
    "print(even_sum)"
   ]
  },
  {
   "cell_type": "markdown",
   "id": "8ca7f29f",
   "metadata": {},
   "source": [
    "7. 사용자로 부터 임의의 정수를 입력받고, 해당 숫자를 역순으로 출력하는 프로그램을 작성하시오.  \n",
    "  \n",
    "[실행 예]  \n",
    "      정수를 입력하세요: 3125  \n",
    "      숫자 역순은 5213 입니다."
   ]
  },
  {
   "cell_type": "code",
   "execution_count": 3,
   "id": "8966a74b",
   "metadata": {},
   "outputs": [
    {
     "name": "stdout",
     "output_type": "stream",
     "text": [
      "정수를 입력하세요: 3125\n",
      "숫자 역순은 5213 입니다.\n"
     ]
    }
   ],
   "source": [
    "try:\n",
    "    integer = int(input('정수를 입력하세요: ')) # 정수만을 입력받기 위해서 int로 받고\n",
    "    \n",
    "    integer = str(integer) # 뒤집기 위해 string으로 변환\n",
    "    \n",
    "    print('숫자 역순은', integer[::-1], '입니다.')\n",
    "\n",
    "except:\n",
    "    print('Error, 정수를 입력해 주세요') # 정수를 입력하지 않았을 때 오류코드 대신 출력되는 것."
   ]
  },
  {
   "cell_type": "markdown",
   "id": "5b0f41dd",
   "metadata": {},
   "source": [
    "8. 사용자로 부터 정수를 입력받아서 1부터 그 사이에 존재하는 소수 (Prime number)를 출력하는 파이썬 프로그램을 작성하시오."
   ]
  },
  {
   "cell_type": "code",
   "execution_count": 4,
   "id": "d837341e",
   "metadata": {},
   "outputs": [
    {
     "name": "stdout",
     "output_type": "stream",
     "text": [
      "정수를 입력하세요: 20\n",
      "2\n",
      "3\n",
      "5\n",
      "7\n",
      "11\n",
      "13\n",
      "17\n",
      "19\n"
     ]
    }
   ],
   "source": [
    "try:\n",
    "    max_number = int(input('정수를 입력하세요: '))\n",
    "\n",
    "    for Prime_number in range(2, max_number):    \n",
    "        Filter = 0 # 필터 초기화\n",
    "    \n",
    "        # 소수인지 판별하는 부분\n",
    "        for num in range(2, Prime_number):\n",
    "            if Prime_number % num == 0: # Prime_number를 num로 나누었을 때 0이면 소수x\n",
    "                Filter = 1\n",
    "\n",
    "# Filter = 0 출력o \n",
    "# Filter = 1 출력x                 \n",
    "    \n",
    "        #출력부분            \n",
    "        if Filter == 0:\n",
    "            print(Prime_number)\n",
    "\n",
    "except:\n",
    "    print('Error, 정수를 입력해 주세요')"
   ]
  },
  {
   "cell_type": "markdown",
   "id": "0b092e5b",
   "metadata": {},
   "source": [
    "-----------------------------------------------------------------  \n",
    "[해설]  \n",
    "정의 : 1과 자기 자신으로만 나누어 떨어지는 숫자를 소수라고 한다.  \n",
    "\n",
    "위의 정의를 다르게 생각하면 자기 자신 의외에도 나누어 떨어지는게 있으면? 소수가 x  \n",
    "라고 생각했고  \n",
    "\n",
    "for문을 두번 돌려서  \n",
    "\n",
    "첫번째 for문에 Prime_number에 숫자가 들어오면  \n",
    "두번째 for문으로 넘어가고\n",
    "\n",
    "2~Prime_number까지의 숫자들과 Prime_number를 나눴을 때\n",
    "하나라도 나머지가 0이 되는 것이 있으면  \n",
    "  \n",
    "Prime_number는 소수가 아니므로 -> Filter에 1을 주고 출력을 못하게 한다.  \n",
    "(Filter는 0일 때만 출력을 수행)  \n",
    "--------------------------------------------------------------"
   ]
  },
  {
   "cell_type": "markdown",
   "id": "56be4348",
   "metadata": {},
   "source": [
    "9. Kevin과 Stuart는 게임을 한다. 규칙은 아래와 같다.  \n",
    "  \n",
    "  - 두 플레이어에게 같은 string, S, 가 주어진다.  \n",
    "  - 두 플레이어는 string S의 문자를 사용하여 substring을 만들어야 한다(중복 가능).  \n",
    "  - Stuart는 자음으로 시작하는 단어를 만들어야 한다.  \n",
    "  - Kevin은 모음으로 시작하는 단어를 만들어야 한다.  \n",
    "  - 게임은 두 플레이어가 만들 수 있는 모든 단어를 만들었을 때 끝난다.  \n",
    "  - 점수 계산 : substring 1개당 +1 점을 획득한다. (아래 그림 참고)  \n",
    "  - 사용자로 부터 대문자로 이루어진 string S를 입력받고, 승자와 그의 점수를 출력하는 프로그램을 작성하시오.  \n",
    "  \n",
    "  [실행 예]  \n",
    "  \n",
    "  string S를 입력하세요: BANANA  \n",
    "  승자: Stuart 점수: 12  "
   ]
  },
  {
   "cell_type": "code",
   "execution_count": 5,
   "id": "3f2e8ec1",
   "metadata": {
    "scrolled": true
   },
   "outputs": [
    {
     "name": "stdout",
     "output_type": "stream",
     "text": [
      "string S를 입력하세요: BANANA\n",
      "승자: Stuart 점수: 12\n"
     ]
    }
   ],
   "source": [
    "S = input('string S를 입력하세요: ')\n",
    "\n",
    "#초기화\n",
    "substring = list() # substring\n",
    "Stuart_substring = list() # 자음\n",
    "Kevin_substring = list() # 모음\n",
    "\n",
    "# substring 만들기 // 슬라이싱이용\n",
    "j = 0\n",
    "for i in range(0, len(S)):\n",
    "    j = i + 1\n",
    "    for k in range(0, len(S)):\n",
    "        if k+j == len(S)+1 : break\n",
    "        substring.append(S[k : k+j])\n",
    "\n",
    "# 모음 자음 나누기\n",
    "for i in range(0, len(substring)):   \n",
    "    if (substring[i][0] == 'A' or substring[i][0] == 'E' or substring[i][0] == 'I' or substring[i][0] == 'O' or substring[i][0] == 'U'):\n",
    "        Kevin_substring.append(substring[i])\n",
    "    else:\n",
    "        Stuart_substring.append(substring[i])\n",
    "\n",
    "    \n",
    "\n",
    "# 승자 가리기\n",
    "if len(Stuart_substring) > len(Kevin_substring):\n",
    "    print('승자: Stuart 점수:',len(Stuart_substring))\n",
    "elif len(Stuart_substring) < len(Kevin_substring):\n",
    "    print('승자: Kevin 점수:',len(Kevin_substring))\n",
    "else:\n",
    "    print('동점  점수: ',len(Stuart_substring))\n"
   ]
  },
  {
   "cell_type": "markdown",
   "id": "a1413bf8",
   "metadata": {},
   "source": [
    "10. 알파벳 소문자만으로 이루어진 string, S, 가 주어지고 아래 2가지 연산을 수행할 수 있다.  \n",
    "- 추가 : string S의 끝에 알파벳 소문자 하나를 추가한다.\n",
    "- 삭제 : string S의 마지막 문자 하나를 삭제한다. empty string에서 삭제 연산을 수행한 결과는 empty string이다.  \n",
    "  \n",
    "두 개의 string, s와 t, 그리고 정수 k가 주어질 때, 정확히 k번의 연산을 통해 s를 t로 바꿀 수 있는지 판단하는 함수를 작성하시오."
   ]
  },
  {
   "cell_type": "code",
   "execution_count": 44,
   "id": "c4f045a1",
   "metadata": {},
   "outputs": [
    {
     "name": "stdout",
     "output_type": "stream",
     "text": [
      "s= hackerhappy\n",
      "t= hackerrank\n",
      "k= 9\n",
      "Yes\n"
     ]
    }
   ],
   "source": [
    "# 입력 받는 것.\n",
    "s = input('s= ')\n",
    "t = input('t= ')\n",
    "k = int(input('k= '))\n",
    "\n",
    "# 함수\n",
    "def appendDelete(s, t, k):\n",
    "    if len(s) > len(t):\n",
    "        true_k = len(s) - len(t)\n",
    "        \n",
    "        for i in range(0, len(t)):\n",
    "            if s[i] != t[i]:\n",
    "                true_k += 2*(len(t)-len(t[0:i]))\n",
    "                break\n",
    "                \n",
    "    else: \n",
    "        true_k = len(t) - len(s)\n",
    "        \n",
    "        for i in range(0, len(s)):\n",
    "            if s[i] != t[i]:\n",
    "                true_k += 2*(len(t)-len(t[0:i]))\n",
    "                break\n",
    "    # 출력부분\n",
    "    if true_k <= k:\n",
    "        a = 'Yes'\n",
    "    else:\n",
    "        a = 'No'\n",
    "\n",
    "    return a\n",
    "\n",
    "# 실행 부분\n",
    "a = appendDelete(s, t, k)\n",
    "print(a)"
   ]
  },
  {
   "cell_type": "markdown",
   "id": "a224d873",
   "metadata": {},
   "source": [
    "--------------------------------- \n",
    "[해설]  \n",
    "k번의 연산을 통해 s -> t로 바꿀 수 있는지 없는지 여부를 출력하는 것이 문제.  \n",
    "input 받은 k와 실제 k(true_k)를 비교해서 Yes or No 반환  \n",
    "- 계산과정  \n",
    "2가지로 구분할 수 있는데  \n",
    "개수가 다라서 틀릴 때는 1번의 연산  \n",
    "문자가 달라서 틀릴 때는 2번의 연산  \n",
    "  \n",
    "그래서 처음에 true_k=len(s)-len(t)를 한 이유는 1번의 연산을 고려  \n",
    "그다음 for문을 통해 인덱스마다 값이 다른지 살펴보면서  \n",
    "  \n",
    "다른 값이 다른 인덱스가 나오면 i가 멈추고  \n",
    "값이 다른 인덱스만 개수를 추려내 2번의 연산을 한 후  \n",
    "  \n",
    "k와 true_k를 비교해 결과 확인  \n",
    " \n",
    "---------------------------"
   ]
  },
  {
   "cell_type": "code",
   "execution_count": null,
   "id": "93b22372",
   "metadata": {},
   "outputs": [],
   "source": []
  }
 ],
 "metadata": {
  "kernelspec": {
   "display_name": "Python 3",
   "language": "python",
   "name": "python3"
  },
  "language_info": {
   "codemirror_mode": {
    "name": "ipython",
    "version": 3
   },
   "file_extension": ".py",
   "mimetype": "text/x-python",
   "name": "python",
   "nbconvert_exporter": "python",
   "pygments_lexer": "ipython3",
   "version": "3.8.8"
  }
 },
 "nbformat": 4,
 "nbformat_minor": 5
}
