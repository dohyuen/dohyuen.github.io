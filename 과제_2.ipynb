{
 "cells": [
  {
   "cell_type": "markdown",
   "id": "7c45e2ef",
   "metadata": {},
   "source": [
    "### [일반 문제]"
   ]
  },
  {
   "cell_type": "markdown",
   "id": "9e44133c",
   "metadata": {},
   "source": [
    "1. 다음 6 개의 Expression에 대해 Evaluation 결과 값을 출력하고, 해당 결과가 나온 이유에 대해 설명하시오"
   ]
  },
  {
   "cell_type": "markdown",
   "id": "99d6e7a8",
   "metadata": {},
   "source": [
    "- and\n",
    "\n",
    "예를들어 a and b 가 있다.  \n",
    "a가 거짓일 때 : b가 참이든 거짓이든 상관없이 이미 거짓이므로 거짓을 뜻하는 객체인 객체 a를 반환    \n",
    "  \n",
    "a가 참일 때 : b가 참인지 아닌지가 중요함. 즉, a가 일단 참이니까 b의값이 참이면 참, 거짓이면 거짓이므로 그냥 결과 자체인 객체 b를 반환  \n",
    "  \n",
    "- or\n",
    "\n",
    "and와 동일한 방식으로 작동.  \n",
    "a가 참이라면 b가 무엇이든 a를 반환  \n",
    "a가 거짓이라면 b가 무엇인지 결정하므로 그냥 b를 반환"
   ]
  },
  {
   "cell_type": "code",
   "execution_count": 47,
   "id": "c5849534",
   "metadata": {},
   "outputs": [
    {
     "data": {
      "text/plain": [
       "4"
      ]
     },
     "execution_count": 47,
     "metadata": {},
     "output_type": "execute_result"
    }
   ],
   "source": [
    "1 and 2 and 3 and 4"
   ]
  },
  {
   "cell_type": "markdown",
   "id": "27a57a3d",
   "metadata": {},
   "source": [
    "0이아닌 정수는 참으로 인식한다. 즉 1,2,3,4 모두 참이므로 and 뒤의 값이 반환.   \n",
    "((1 and 2) and 3) and 4  \n",
    "(2 and 3) and 4  \n",
    "3 and 4  \n",
    "=>4"
   ]
  },
  {
   "cell_type": "code",
   "execution_count": 48,
   "id": "378e887d",
   "metadata": {},
   "outputs": [
    {
     "data": {
      "text/plain": [
       "1"
      ]
     },
     "execution_count": 48,
     "metadata": {},
     "output_type": "execute_result"
    }
   ],
   "source": [
    "1 or 2 or 3 or 4"
   ]
  },
  {
   "cell_type": "markdown",
   "id": "d28077a2",
   "metadata": {},
   "source": [
    "1,2,3,4 모두 참이므로 or 앞의 값을 반환  \n",
    "((1 or 2) or 3) or 4  \n",
    "(1 or 3) or 4  \n",
    "1 or 4  \n",
    "=>1\n"
   ]
  },
  {
   "cell_type": "code",
   "execution_count": 49,
   "id": "6bc87c6f",
   "metadata": {},
   "outputs": [
    {
     "data": {
      "text/plain": [
       "2"
      ]
     },
     "execution_count": 49,
     "metadata": {},
     "output_type": "execute_result"
    }
   ],
   "source": [
    "1 and 2 or 3 and 4"
   ]
  },
  {
   "cell_type": "markdown",
   "id": "6bc24f57",
   "metadata": {},
   "source": [
    "and 가 or 보다 먼저 계산된다 ( 괄호가 없는 이상 )    \n",
    "(1 and 2) or (3 and 4)  \n",
    "2 or 4  \n",
    "=>2"
   ]
  },
  {
   "cell_type": "code",
   "execution_count": 50,
   "id": "2c523f12",
   "metadata": {},
   "outputs": [
    {
     "data": {
      "text/plain": [
       "2"
      ]
     },
     "execution_count": 50,
     "metadata": {},
     "output_type": "execute_result"
    }
   ],
   "source": [
    "(1 and 2) or (3 and 4)"
   ]
  },
  {
   "cell_type": "markdown",
   "id": "bef1ce20",
   "metadata": {},
   "source": [
    "and가 or 보다 우선순위 이므로 위의 식과 동일  "
   ]
  },
  {
   "cell_type": "code",
   "execution_count": 51,
   "id": "0a2e6d97",
   "metadata": {},
   "outputs": [
    {
     "data": {
      "text/plain": [
       "1"
      ]
     },
     "execution_count": 51,
     "metadata": {},
     "output_type": "execute_result"
    }
   ],
   "source": [
    "1 or 2 and 3 or 4"
   ]
  },
  {
   "cell_type": "markdown",
   "id": "4867dc08",
   "metadata": {},
   "source": [
    "1 or (2 and 3) or 4  \n",
    "1 or 3 or 4 <- 순서대로 진행 1 or 3 부터  \n",
    "1 or 4  \n",
    "=>1\n"
   ]
  },
  {
   "cell_type": "code",
   "execution_count": 6,
   "id": "c4f24a38",
   "metadata": {},
   "outputs": [
    {
     "data": {
      "text/plain": [
       "3"
      ]
     },
     "execution_count": 6,
     "metadata": {},
     "output_type": "execute_result"
    }
   ],
   "source": [
    "(1 or 2) and (3 or 4)"
   ]
  },
  {
   "cell_type": "markdown",
   "id": "32adced2",
   "metadata": {},
   "source": [
    "and 가 or 보다 먼저지만 괄호가 있어서 or먼저 계산  \n",
    "(1 or 2) and (3 or 4)  \n",
    "1 and 3  \n",
    "=>3"
   ]
  },
  {
   "cell_type": "markdown",
   "id": "99fc2692",
   "metadata": {},
   "source": [
    "2. 경로에 해당하는 문자열 1개를 입력 받아 그 안에 디렉토리 경로명과 파일명을 분리하여 리스트로 반환하는 함수 div_path(s)를 작성하시오."
   ]
  },
  {
   "cell_type": "code",
   "execution_count": 52,
   "id": "12002629",
   "metadata": {},
   "outputs": [],
   "source": [
    "def div_path(path):\n",
    "    path = path.split('/')  # '/' 을 기준으로 나누고 각각 리스트에 넣기\n",
    "    File = path[-1]  # 경로의 잴 뒤에는 파일명이 있으므로 파일명 File에 할당\n",
    "    \n",
    "    del(path[-1])  # 경로만 뽑기 위해 파일명 제거\n",
    "    \n",
    "    path = '/'.join(path)  # 리스트 -> 문자열 합치는데 각 요소마다 / 를 붙여 합치기.\n",
    "    \n",
    "    return [path, File]"
   ]
  },
  {
   "cell_type": "code",
   "execution_count": 53,
   "id": "f23f5e57",
   "metadata": {},
   "outputs": [
    {
     "data": {
      "text/plain": [
       "['/usr/local/bin', 'python']"
      ]
     },
     "execution_count": 53,
     "metadata": {},
     "output_type": "execute_result"
    }
   ],
   "source": [
    "#path = input(\"경로를 입력하세요 :\")\n",
    "#div_path(path)\n",
    "\n",
    "div_path('/usr/local/bin/python')"
   ]
  },
  {
   "cell_type": "code",
   "execution_count": 54,
   "id": "0bec85c5",
   "metadata": {},
   "outputs": [
    {
     "data": {
      "text/plain": [
       "['/home/chulsoo', 'test.txt']"
      ]
     },
     "execution_count": 54,
     "metadata": {},
     "output_type": "execute_result"
    }
   ],
   "source": [
    "div_path('/home/chulsoo/test.txt')"
   ]
  },
  {
   "cell_type": "markdown",
   "id": "5bf15bb5",
   "metadata": {},
   "source": [
    "3. 두 개의 리스트를 인자로 받아서 그 두 개의 리스트에 대한 '합집합'을 반환하는 함수 list_union(lista, listb)를 작성하시오."
   ]
  },
  {
   "cell_type": "code",
   "execution_count": 55,
   "id": "f5c8b59b",
   "metadata": {},
   "outputs": [],
   "source": [
    "def list_union(lista,listb):\n",
    "    new_list = lista    # 새 리스트 만들기\n",
    "    \n",
    "    for num in listb:\n",
    "        if num not in new_list: # listb의 요소 num이 new_list에 없으면 추가\n",
    "            new_list.append(num)\n",
    "    \n",
    "    new_list.sort() # 오름차순 정렬\n",
    "    return new_list"
   ]
  },
  {
   "cell_type": "code",
   "execution_count": 56,
   "id": "53087e6e",
   "metadata": {},
   "outputs": [
    {
     "data": {
      "text/plain": [
       "[1, 2, 3, 4, 5]"
      ]
     },
     "execution_count": 56,
     "metadata": {},
     "output_type": "execute_result"
    }
   ],
   "source": [
    "list_union([3, 4, 5], [1, 2, 4])"
   ]
  },
  {
   "cell_type": "code",
   "execution_count": 57,
   "id": "6786afee",
   "metadata": {},
   "outputs": [
    {
     "data": {
      "text/plain": [
       "[-10, -5, -1, 0, 9, 100]"
      ]
     },
     "execution_count": 57,
     "metadata": {},
     "output_type": "execute_result"
    }
   ],
   "source": [
    "list_union([-10, -5, 0, -1], [100, 9, 0, 9])"
   ]
  },
  {
   "cell_type": "code",
   "execution_count": 58,
   "id": "3f0f468f",
   "metadata": {},
   "outputs": [
    {
     "data": {
      "text/plain": [
       "[0, 1, 2]"
      ]
     },
     "execution_count": 58,
     "metadata": {},
     "output_type": "execute_result"
    }
   ],
   "source": [
    "list_union([0, 1, 2], [0, 1, 2])"
   ]
  },
  {
   "cell_type": "markdown",
   "id": "f296c47e",
   "metadata": {},
   "source": [
    "4. 두 개의 리스트를 인자로 받아서 그 두 개의 리스트에 대한 '교집합'을 반환하는 함수 list_intersection(lista, listb)와 '차집합'을 반환하는 함수 list_difference(lista, listb)를 작성하시오."
   ]
  },
  {
   "cell_type": "code",
   "execution_count": 59,
   "id": "be200ebe",
   "metadata": {},
   "outputs": [],
   "source": [
    "# 교집합\n",
    "def list_intersection(lista, listb):\n",
    "    new_list = []    # 새 리스트 만들기\n",
    "    \n",
    "    for num in lista:\n",
    "        if num in listb: # listb의 요소 num이 new_list에 없으면 추가\n",
    "            new_list.append(num)\n",
    "\n",
    "    new_list.sort() # 오름차순 정렬\n",
    "    return new_list\n",
    "\n",
    "# 차집합   // lista에는 속하지만 listb에는 안속하는 것\n",
    "def  list_difference(lista, listb):\n",
    "    new_list = lista    # 새 리스트 만들기\n",
    "    \n",
    "    for num in list_intersection(lista, listb):\n",
    "        if num in lista:\n",
    "            new_list.remove(num) # lista - 교집합\n",
    "    \n",
    "    new_list.sort() # 오름차순 정렬\n",
    "    return new_list"
   ]
  },
  {
   "cell_type": "code",
   "execution_count": 60,
   "id": "2a8dfbae",
   "metadata": {},
   "outputs": [
    {
     "data": {
      "text/plain": [
       "[1, 2]"
      ]
     },
     "execution_count": 60,
     "metadata": {},
     "output_type": "execute_result"
    }
   ],
   "source": [
    "list_intersection([1, 2, 3], [1, 2, 4])"
   ]
  },
  {
   "cell_type": "code",
   "execution_count": 61,
   "id": "89185e8e",
   "metadata": {},
   "outputs": [
    {
     "data": {
      "text/plain": [
       "[3]"
      ]
     },
     "execution_count": 61,
     "metadata": {},
     "output_type": "execute_result"
    }
   ],
   "source": [
    "list_difference([1, 2, 3], [1, 2, 4])"
   ]
  },
  {
   "cell_type": "markdown",
   "id": "55ba3473",
   "metadata": {},
   "source": [
    "5. 두 개의 양의 정수를 인자로 받아서 해당 범위안에 있는 소수(prime number)의 리스트를 출력하는 함수 print_primenumber(a, b)를 작성하시오."
   ]
  },
  {
   "cell_type": "code",
   "execution_count": 62,
   "id": "9ca58e9b",
   "metadata": {},
   "outputs": [],
   "source": [
    "def print_primenumber(a, b):\n",
    "    num_list = []\n",
    "    for prime_number in range(a, b+1):\n",
    "        Filter = 0 # 필터 초기화\n",
    "        for num in range(2, prime_number):\n",
    "            if prime_number % num == 0:   # 나누어떨어지면 소수x\n",
    "                Filter = 1\n",
    "            \n",
    "        if Filter == 0: # 나누어 떨어지지 않았으므로 소수 = Filter가 1 = list에 더함\n",
    "            num_list.append(prime_number)\n",
    "    \n",
    "    print('{} 이상 {} 이하 정수 중 소수 리스트: {}'.format(a,b,num_list))"
   ]
  },
  {
   "cell_type": "code",
   "execution_count": 63,
   "id": "187c1bda",
   "metadata": {},
   "outputs": [
    {
     "name": "stdout",
     "output_type": "stream",
     "text": [
      "2 이상 10 이하 정수 중 소수 리스트: [2, 3, 5, 7]\n"
     ]
    }
   ],
   "source": [
    "print_primenumber(2, 10)"
   ]
  },
  {
   "cell_type": "markdown",
   "id": "3917263c",
   "metadata": {},
   "source": [
    "### [Incremental Project 문제]"
   ]
  },
  {
   "cell_type": "markdown",
   "id": "9a186ecd",
   "metadata": {},
   "source": [
    "1) URL로 지정된 웹페이지를 문자열로 가져와  \n",
    "2) HTML태그 제외한 순수 텍스트 문자열 추출.  \n",
    "3) 순수 텍스트 문자열 안에 단어가 총 몇개인지 출력"
   ]
  },
  {
   "cell_type": "code",
   "execution_count": 64,
   "id": "856c307d",
   "metadata": {},
   "outputs": [],
   "source": [
    "#1 URL 가져오기.\n",
    "import requests\n",
    "\n",
    "req = requests.get('https://cms3.koreatech.ac.kr/me/index.do?sso=ok')\n",
    "\n",
    "source = req.text"
   ]
  },
  {
   "cell_type": "code",
   "execution_count": 65,
   "id": "dfc3b19e",
   "metadata": {},
   "outputs": [],
   "source": [
    "#print(source)"
   ]
  },
  {
   "cell_type": "code",
   "execution_count": 66,
   "id": "1461435d",
   "metadata": {},
   "outputs": [],
   "source": [
    "source = source.replace('\\n','') # 들여쓰기 제거\n",
    "source = source.replace('\\t','') # Tap 제거\n",
    "source = ' '.join(source.split()) # 중복 공백문자 제거"
   ]
  },
  {
   "cell_type": "code",
   "execution_count": 67,
   "id": "074e10e7",
   "metadata": {},
   "outputs": [
    {
     "name": "stdout",
     "output_type": "stream",
     "text": [
      "209\n"
     ]
    }
   ],
   "source": [
    "front_index, back_index, str_start, str_end = 0, 0, 0, 0\n",
    "\n",
    "index = 0\n",
    "str_list = []\n",
    "\n",
    "switch = 1 # script 제거하기 위한 스위치 / 1 - On , 0 - Off\n",
    "\n",
    "for i in source:\n",
    "    \n",
    "    #인지 부분\n",
    "    if i == '<':\n",
    "        front_index = index + 1      # < > 안의 문자확인을 위한 인덱스 저장\n",
    "        \n",
    "        # script 를 만나면 스위치=0 OFF\n",
    "        if source[front_index : front_index + 6] == 'script': switch = 0\n",
    "        \n",
    "        \n",
    "    elif i == '>':\n",
    "        back_index = index       # < > 안의 문자확인을 위한 인덱스 저장\n",
    "        \n",
    "        if source[back_index - 8 : back_index + 1] == '</script>':\n",
    "            switch = 1  # /script를 만나면 스위치=1 ON\n",
    "        \n",
    "        elif switch == 1 : str_start = back_index + 1\n",
    "        # 스위치 ON 이고 '>'만났기에 문자열 시작으로 그 때의 인덱스 저장    \n",
    "    \n",
    "    \n",
    "    if str_start != 0 and i == '<':  # 스위치 0n 이고 '<' 만나면\n",
    "        str_end = index # 문자열 끝이므로 그 때의 인덱스 저장\n",
    "        \n",
    "        #삽입 부분\n",
    "        if source[str_start : str_end] != '' and source[str_start : str_end] != ' ':  # 비어있는 값 삭제\n",
    "            str_list.append(source[str_start : str_end]) # 시작 인덱스 ~ 끝 인덱스\n",
    "        \n",
    "        #초기화\n",
    "        str_start = 0\n",
    "        str_end = 0        \n",
    "    \n",
    "    index += 1\n",
    "\n",
    "    \n",
    "# 추가 부분 : &lt ~ &gt 도 없애기\n",
    "for s in str_list:\n",
    "    if '&lt' in s:\n",
    "        str_list.remove(s)\n",
    "\n",
    "\n",
    "    \n",
    "#텍스트 문자열 -> 순수 텍스트 문자열\n",
    "true_str = []\n",
    "for i in range(len(str_list)):\n",
    "    true_str.append(str_list[i].split())   #공백문자 기준으로 분리\n",
    "\n",
    "\n",
    "\n",
    "#계산 부분\n",
    "count = 0\n",
    "for i in range(len(true_str)):\n",
    "    count = count + len(true_str[i])\n",
    "\n",
    "\n",
    "\n",
    "#출력 부분\n",
    "print(count)"
   ]
  },
  {
   "cell_type": "markdown",
   "id": "54a50e60",
   "metadata": {},
   "source": [
    "- 인지부분\n",
    "\n",
    "HTML의 텍스트 문자열은 '>' 과 '<' 사이에 있다.  \n",
    "'>' 의 인덱스를 문자열 시작, '<' 의 인덱스를 문자열의 끝 으로 두고 슬라이싱으로 문자열을 추출  \n",
    "\n",
    "(단, javascript로 된 부분은 추출하면 안되므로 script를 만나면 추출을 멈추기 위해서 스위치 Off   \n",
    "다시 /script를 만나면 다시 스위치 On)  \n",
    "  \n",
    "- 삽입부분\n",
    "\n",
    "인지부분에서 슬라이싱한 문자열을 새로운 str_list에 리스트로 추가  \n",
    "(단, 비어있는 문자열이나, 공백문자만 있는 문자열은 제거)  \n",
    "  \n",
    "- 텍스트 문자열 -> 순수 텍스트 문자열\n",
    "\n",
    "공백을 기준으로 str_list -> true_str로 변환  \n",
    "이는 최종적으로 세어지는 순수 텍스트 문자열이 무엇인지 알기 위해서 이렇게 했다.  \n",
    "  \n",
    "- 계산부분\n",
    "  \n",
    "현재 순수 텍스트 문자열은 리스트안에 리스트 형태로 저장되어 있으므로  \n",
    "for문으로 true_str의 리스트를 돌면서 각 리스트의 개수를 count에 더해준다.\n",
    "\n",
    "- 추가\n",
    "  \n",
    "&lt 부분도 없앨 수 있으면 없애는걸 해보라고 하셔서 추가 부분 추가."
   ]
  },
  {
   "cell_type": "code",
   "execution_count": 68,
   "id": "a6dee0e8",
   "metadata": {},
   "outputs": [],
   "source": [
    "# 순수 텍스트 문자열로 변환하기 전 1차 확인\n",
    "#print(str_list)"
   ]
  },
  {
   "cell_type": "markdown",
   "id": "516fc95c",
   "metadata": {},
   "source": [
    "문자열 받음과 동시에 공백문자로 바로 나누지 않은 이유  \n",
    ": 문자열이 뭐가 넘어왔는지 확인하기 위해서는 공백문자로 나뉘지 않은 문자열이 더 편함"
   ]
  },
  {
   "cell_type": "markdown",
   "id": "56d46bab",
   "metadata": {},
   "source": [
    "[소감]  \n",
    "저번과제로 배우게 된 코딩을 먼저하는게 아니라 어떻게 계산하는지 나는 이걸 어떻게 계산했는지를 먼저 종이에 그리고 그걸 토대로 그대로 컴퓨터로 옮기는 과정을 해서 그런지 시간은 얼마 걸리지 않았습니다.  \n",
    "  \n",
    "하지만, 문제에서 말하는 요지가 이게 맞는지 아닌지가 애매해서 좀 생각했던 것들이 있었는데, 경험의 부족이라 생각했습니다.  \n",
    "  \n",
    "다음 과제는 더 빨리 하도록 하겠습니다.  "
   ]
  },
  {
   "cell_type": "code",
   "execution_count": 69,
   "id": "8c9e48df",
   "metadata": {},
   "outputs": [],
   "source": [
    "#2 URL 가져오기.\n",
    "import requests\n",
    "\n",
    "req = requests.get('https://hanpyo.com/')\n",
    "\n",
    "source = req.text"
   ]
  },
  {
   "cell_type": "code",
   "execution_count": 70,
   "id": "b0906d0d",
   "metadata": {},
   "outputs": [],
   "source": [
    "source = source.replace('\\n','') # 들여쓰기 제거\n",
    "source = source.replace('\\t','') # Tap 제거\n",
    "source = ' '.join(source.split()) # 중복 공백문자 제거"
   ]
  },
  {
   "cell_type": "code",
   "execution_count": 71,
   "id": "c302064b",
   "metadata": {},
   "outputs": [
    {
     "name": "stdout",
     "output_type": "stream",
     "text": [
      "51\n"
     ]
    }
   ],
   "source": [
    "front_index, back_index, str_start, str_end = 0, 0, 0, 0\n",
    "\n",
    "index = 0\n",
    "str_list = []\n",
    "\n",
    "switch = 1 # script 제거하기 위한 스위치 / 1 - On , 0 - Off\n",
    "\n",
    "for i in source:\n",
    "    \n",
    "    #인지 부분\n",
    "    if i == '<':\n",
    "        front_index = index + 1      # < > 안의 문자확인을 위한 인덱스 저장\n",
    "        \n",
    "        # script 를 만나면 스위치=0 OFF\n",
    "        if source[front_index : front_index + 6] == 'script': switch = 0\n",
    "        \n",
    "        \n",
    "    elif i == '>':\n",
    "        back_index = index       # < > 안의 문자확인을 위한 인덱스 저장\n",
    "        \n",
    "        if source[back_index - 8 : back_index + 1] == '</script>':\n",
    "            switch = 1  # /script를 만나면 스위치=1 ON\n",
    "        \n",
    "        elif switch == 1 : str_start = back_index + 1\n",
    "        # 스위치 ON 이고 '>'만났기에 문자열 시작으로 그 때의 인덱스 저장    \n",
    "    \n",
    "    \n",
    "    if str_start != 0 and i == '<':  # 스위치 0n 이고 '<' 만나면\n",
    "        str_end = index # 문자열 끝이므로 그 때의 인덱스 저장\n",
    "        \n",
    "        #삽입 부분\n",
    "        if source[str_start : str_end] != '' and source[str_start : str_end] != ' ':  # 비어있는 값 삭제\n",
    "            str_list.append(source[str_start : str_end]) # 시작 인덱스 ~ 끝 인덱스\n",
    "        \n",
    "        #초기화\n",
    "        str_start = 0\n",
    "        str_end = 0        \n",
    "    \n",
    "    index += 1\n",
    "\n",
    "    \n",
    "# 추가 부분 : &lt ~ &gt 도 없애기\n",
    "for s in str_list:\n",
    "    if '&lt' in s:\n",
    "        str_list.remove(s)\n",
    "\n",
    "\n",
    "    \n",
    "#텍스트 문자열 -> 순수 텍스트 문자열\n",
    "true_str = []\n",
    "for i in range(len(str_list)):\n",
    "    true_str.append(str_list[i].split())   #공백문자 기준으로 분리\n",
    "\n",
    "\n",
    "\n",
    "#계산 부분\n",
    "count = 0\n",
    "for i in range(len(true_str)):\n",
    "    count = count + len(true_str[i])\n",
    "\n",
    "\n",
    "\n",
    "#출력 부분\n",
    "print(count)"
   ]
  }
 ],
 "metadata": {
  "kernelspec": {
   "display_name": "Python 3",
   "language": "python",
   "name": "python3"
  },
  "language_info": {
   "codemirror_mode": {
    "name": "ipython",
    "version": 3
   },
   "file_extension": ".py",
   "mimetype": "text/x-python",
   "name": "python",
   "nbconvert_exporter": "python",
   "pygments_lexer": "ipython3",
   "version": "3.8.8"
  }
 },
 "nbformat": 4,
 "nbformat_minor": 5
}
