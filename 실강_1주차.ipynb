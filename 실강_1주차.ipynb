{
 "cells": [
  {
   "cell_type": "code",
   "execution_count": 1,
   "id": "aefd60b4",
   "metadata": {},
   "outputs": [],
   "source": [
    "a = 10"
   ]
  },
  {
   "cell_type": "code",
   "execution_count": 2,
   "id": "7bd83d31",
   "metadata": {},
   "outputs": [],
   "source": [
    "b = 10"
   ]
  },
  {
   "cell_type": "code",
   "execution_count": 3,
   "id": "1e605dad",
   "metadata": {},
   "outputs": [
    {
     "name": "stdout",
     "output_type": "stream",
     "text": [
      "20\n"
     ]
    }
   ],
   "source": [
    "print(a+b)"
   ]
  },
  {
   "cell_type": "markdown",
   "id": "40e859f1",
   "metadata": {},
   "source": [
    "이런 글씨를 쓰는 것을 \"Markdown\" : 단축기 m // 단 명령어 모드로 바꿔야한다.\n",
    "명령어 모드 : ESC\n",
    "편집 모드 : Enter // 차이 : 커서가 깜빡깜빡하면 편집모드 아니면 명령어모드\n",
    "셀 추가 : 위(a), 아래(b)\n",
    "셀 제거 : aa"
   ]
  },
  {
   "cell_type": "markdown",
   "id": "6320ef71",
   "metadata": {},
   "source": [
    "이런 글씨를 쓰는 것을 \"Markdown\" : 단축기 m // 단 명령어 모드로 바꿔야한다.\n",
    "명령어 모드 : ESC 편집 모드 : Enter // 차이 : 커서가 깜빡깜빡하면 편집모드 아니면 명령어모드 셀 추가 : 위(a), 아래(b) 셀 제거 : aa"
   ]
  },
  {
   "cell_type": "markdown",
   "id": "8e8dc7d4",
   "metadata": {},
   "source": [
    "이런 글씨를 쓰는 것을 \"Markdown\" : 단축기 m // 단 명령어 모드로 바꿔야한다."
   ]
  },
  {
   "cell_type": "markdown",
   "id": "1951573b",
   "metadata": {},
   "source": [
    "명령어 모드 : ESC, 편집 모드 : Enter"
   ]
  },
  {
   "cell_type": "markdown",
   "id": "425801e1",
   "metadata": {},
   "source": [
    "차이 : 커서가 깜빡깜빡하면 편집모드 아니면 명령어모드"
   ]
  },
  {
   "cell_type": "markdown",
   "id": "c7149881",
   "metadata": {},
   "source": [
    "셀 추가 : 위(a), 아래(b)"
   ]
  },
  {
   "cell_type": "markdown",
   "id": "dbfbd570",
   "metadata": {},
   "source": [
    "셀 제거 : aa"
   ]
  },
  {
   "cell_type": "markdown",
   "id": "b9ba11e2",
   "metadata": {},
   "source": [
    "jupyter 저장 : s"
   ]
  },
  {
   "cell_type": "code",
   "execution_count": null,
   "id": "365cf088",
   "metadata": {},
   "outputs": [],
   "source": []
  }
 ],
 "metadata": {
  "kernelspec": {
   "display_name": "Python 3",
   "language": "python",
   "name": "python3"
  },
  "language_info": {
   "codemirror_mode": {
    "name": "ipython",
    "version": 3
   },
   "file_extension": ".py",
   "mimetype": "text/x-python",
   "name": "python",
   "nbconvert_exporter": "python",
   "pygments_lexer": "ipython3",
   "version": "3.8.8"
  }
 },
 "nbformat": 4,
 "nbformat_minor": 5
}
